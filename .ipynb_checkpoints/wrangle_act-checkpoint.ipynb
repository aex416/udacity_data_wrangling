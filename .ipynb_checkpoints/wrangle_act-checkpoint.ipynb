{
 "cells": [
  {
   "cell_type": "code",
   "execution_count": 1,
   "metadata": {},
   "outputs": [],
   "source": [
    "import numpy as np\n",
    "import pandas as pd\n",
    "import requests\n",
    "import tweepy"
   ]
  },
  {
   "cell_type": "markdown",
   "metadata": {},
   "source": [
    "# Gather\n",
    "\n",
    "#### Three data sources will be used for this project which will be defined below.\n",
    "1. [x] WeRateDogs Twitter archive that is provided as a downloadable csv at the given URL and should be downloaded manually\n",
    "2. [x] The tweet image predictions should be downloaded programatically from Udacity using Requests library.\n",
    "3. [x] Each tweets retweet count, like count, and anything else I think is interesting should be downloaded using tweepy twitter api and stored in tweet_json.txt as json."
   ]
  },
  {
   "cell_type": "code",
   "execution_count": 2,
   "metadata": {},
   "outputs": [],
   "source": [
    "# # Download and save tweet image predicitons as image_predictions.tsv\n",
    "\n",
    "# r = requests.get('https://d17h27t6h515a5.cloudfront.net/topher/2017/August/599fd2ad_image-predictions/image-predictions.tsv')\n",
    "# with open('image_predictions.tsv', 'w') as f:\n",
    "#     f.write(r.text)"
   ]
  },
  {
   "cell_type": "code",
   "execution_count": 3,
   "metadata": {},
   "outputs": [],
   "source": [
    "# Download and save tweepy data without using API\n",
    "\n",
    "# r = requests.get('https://s3.amazonaws.com/video.udacity-data.com/topher/2018/November/5be5fb7d_tweet-json/tweet-json.txt')\n",
    "# with open('tweet-json.txt', 'w') as f:\n",
    "#     f.write(r.text)"
   ]
  },
  {
   "cell_type": "code",
   "execution_count": 4,
   "metadata": {},
   "outputs": [
    {
     "name": "stdout",
     "output_type": "stream",
     "text": [
      "analysis_data_set.csv         tweet_json_clean.csv\r\n",
      "gac_notes.rtf                 twitter-archive-enhanced.csv\r\n",
      "image_prediction_clean.csv    twitter_archive_clean.csv\r\n",
      "image_predictions.tsv         we_rate_dogs_analysis.ipynb\r\n",
      "tweet-json.txt                wrangle_act.ipynb\r\n"
     ]
    }
   ],
   "source": [
    "ls"
   ]
  },
  {
   "cell_type": "code",
   "execution_count": 5,
   "metadata": {},
   "outputs": [],
   "source": [
    "twitter_archive = pd.read_csv('twitter-archive-enhanced.csv')\n",
    "image_predictions = pd.read_csv('image_predictions.tsv', sep='\\t')"
   ]
  },
  {
   "cell_type": "code",
   "execution_count": 6,
   "metadata": {},
   "outputs": [],
   "source": [
    "with open('tweet-json.txt', 'r') as f:\n",
    "    tweets = \"[\" + ','.join(f.readlines()) + \"]\"\n",
    "\n",
    "tweet_json = pd.read_json(tweets)"
   ]
  },
  {
   "cell_type": "markdown",
   "metadata": {},
   "source": [
    "# Assess"
   ]
  },
  {
   "cell_type": "markdown",
   "metadata": {},
   "source": [
    "## Twitter Archive Assessment"
   ]
  },
  {
   "cell_type": "code",
   "execution_count": 7,
   "metadata": {},
   "outputs": [
    {
     "data": {
      "text/html": [
       "<div>\n",
       "<style scoped>\n",
       "    .dataframe tbody tr th:only-of-type {\n",
       "        vertical-align: middle;\n",
       "    }\n",
       "\n",
       "    .dataframe tbody tr th {\n",
       "        vertical-align: top;\n",
       "    }\n",
       "\n",
       "    .dataframe thead th {\n",
       "        text-align: right;\n",
       "    }\n",
       "</style>\n",
       "<table border=\"1\" class=\"dataframe\">\n",
       "  <thead>\n",
       "    <tr style=\"text-align: right;\">\n",
       "      <th></th>\n",
       "      <th>tweet_id</th>\n",
       "      <th>in_reply_to_status_id</th>\n",
       "      <th>in_reply_to_user_id</th>\n",
       "      <th>timestamp</th>\n",
       "      <th>source</th>\n",
       "      <th>text</th>\n",
       "      <th>retweeted_status_id</th>\n",
       "      <th>retweeted_status_user_id</th>\n",
       "      <th>retweeted_status_timestamp</th>\n",
       "      <th>expanded_urls</th>\n",
       "      <th>rating_numerator</th>\n",
       "      <th>rating_denominator</th>\n",
       "      <th>name</th>\n",
       "      <th>doggo</th>\n",
       "      <th>floofer</th>\n",
       "      <th>pupper</th>\n",
       "      <th>puppo</th>\n",
       "    </tr>\n",
       "  </thead>\n",
       "  <tbody>\n",
       "    <tr>\n",
       "      <th>1202</th>\n",
       "      <td>716439118184652801</td>\n",
       "      <td>NaN</td>\n",
       "      <td>NaN</td>\n",
       "      <td>2016-04-03 01:36:11 +0000</td>\n",
       "      <td>&lt;a href=\"http://twitter.com/download/iphone\" r...</td>\n",
       "      <td>This is Bluebert. He just saw that both #Final...</td>\n",
       "      <td>NaN</td>\n",
       "      <td>NaN</td>\n",
       "      <td>NaN</td>\n",
       "      <td>https://twitter.com/dog_rates/status/716439118...</td>\n",
       "      <td>50</td>\n",
       "      <td>50</td>\n",
       "      <td>Bluebert</td>\n",
       "      <td>None</td>\n",
       "      <td>None</td>\n",
       "      <td>None</td>\n",
       "      <td>None</td>\n",
       "    </tr>\n",
       "    <tr>\n",
       "      <th>797</th>\n",
       "      <td>773191612633579521</td>\n",
       "      <td>NaN</td>\n",
       "      <td>NaN</td>\n",
       "      <td>2016-09-06 16:10:20 +0000</td>\n",
       "      <td>&lt;a href=\"http://twitter.com/download/iphone\" r...</td>\n",
       "      <td>This is Grey. He's the dogtor in charge of you...</td>\n",
       "      <td>NaN</td>\n",
       "      <td>NaN</td>\n",
       "      <td>NaN</td>\n",
       "      <td>https://twitter.com/dog_rates/status/773191612...</td>\n",
       "      <td>12</td>\n",
       "      <td>10</td>\n",
       "      <td>Grey</td>\n",
       "      <td>None</td>\n",
       "      <td>None</td>\n",
       "      <td>None</td>\n",
       "      <td>None</td>\n",
       "    </tr>\n",
       "    <tr>\n",
       "      <th>1868</th>\n",
       "      <td>675166823650848770</td>\n",
       "      <td>NaN</td>\n",
       "      <td>NaN</td>\n",
       "      <td>2015-12-11 04:14:49 +0000</td>\n",
       "      <td>&lt;a href=\"http://twitter.com/download/iphone\" r...</td>\n",
       "      <td>This is Arnold. He broke his leg saving a hand...</td>\n",
       "      <td>NaN</td>\n",
       "      <td>NaN</td>\n",
       "      <td>NaN</td>\n",
       "      <td>https://twitter.com/dog_rates/status/675166823...</td>\n",
       "      <td>10</td>\n",
       "      <td>10</td>\n",
       "      <td>Arnold</td>\n",
       "      <td>None</td>\n",
       "      <td>None</td>\n",
       "      <td>None</td>\n",
       "      <td>None</td>\n",
       "    </tr>\n",
       "    <tr>\n",
       "      <th>472</th>\n",
       "      <td>816450570814898180</td>\n",
       "      <td>NaN</td>\n",
       "      <td>NaN</td>\n",
       "      <td>2017-01-04 01:05:59 +0000</td>\n",
       "      <td>&lt;a href=\"http://twitter.com/download/iphone\" r...</td>\n",
       "      <td>Meet Moose. He doesn't want his friend to go b...</td>\n",
       "      <td>NaN</td>\n",
       "      <td>NaN</td>\n",
       "      <td>NaN</td>\n",
       "      <td>https://twitter.com/dog_rates/status/816450570...</td>\n",
       "      <td>13</td>\n",
       "      <td>10</td>\n",
       "      <td>Moose</td>\n",
       "      <td>None</td>\n",
       "      <td>None</td>\n",
       "      <td>None</td>\n",
       "      <td>None</td>\n",
       "    </tr>\n",
       "    <tr>\n",
       "      <th>1181</th>\n",
       "      <td>719332531645071360</td>\n",
       "      <td>NaN</td>\n",
       "      <td>NaN</td>\n",
       "      <td>2016-04-11 01:13:34 +0000</td>\n",
       "      <td>&lt;a href=\"http://twitter.com/download/iphone\" r...</td>\n",
       "      <td>This is Pippa. She managed to start the car bu...</td>\n",
       "      <td>NaN</td>\n",
       "      <td>NaN</td>\n",
       "      <td>NaN</td>\n",
       "      <td>https://twitter.com/dog_rates/status/719332531...</td>\n",
       "      <td>11</td>\n",
       "      <td>10</td>\n",
       "      <td>Pippa</td>\n",
       "      <td>None</td>\n",
       "      <td>None</td>\n",
       "      <td>None</td>\n",
       "      <td>None</td>\n",
       "    </tr>\n",
       "  </tbody>\n",
       "</table>\n",
       "</div>"
      ],
      "text/plain": [
       "                tweet_id  in_reply_to_status_id  in_reply_to_user_id  \\\n",
       "1202  716439118184652801                    NaN                  NaN   \n",
       "797   773191612633579521                    NaN                  NaN   \n",
       "1868  675166823650848770                    NaN                  NaN   \n",
       "472   816450570814898180                    NaN                  NaN   \n",
       "1181  719332531645071360                    NaN                  NaN   \n",
       "\n",
       "                      timestamp  \\\n",
       "1202  2016-04-03 01:36:11 +0000   \n",
       "797   2016-09-06 16:10:20 +0000   \n",
       "1868  2015-12-11 04:14:49 +0000   \n",
       "472   2017-01-04 01:05:59 +0000   \n",
       "1181  2016-04-11 01:13:34 +0000   \n",
       "\n",
       "                                                 source  \\\n",
       "1202  <a href=\"http://twitter.com/download/iphone\" r...   \n",
       "797   <a href=\"http://twitter.com/download/iphone\" r...   \n",
       "1868  <a href=\"http://twitter.com/download/iphone\" r...   \n",
       "472   <a href=\"http://twitter.com/download/iphone\" r...   \n",
       "1181  <a href=\"http://twitter.com/download/iphone\" r...   \n",
       "\n",
       "                                                   text  retweeted_status_id  \\\n",
       "1202  This is Bluebert. He just saw that both #Final...                  NaN   \n",
       "797   This is Grey. He's the dogtor in charge of you...                  NaN   \n",
       "1868  This is Arnold. He broke his leg saving a hand...                  NaN   \n",
       "472   Meet Moose. He doesn't want his friend to go b...                  NaN   \n",
       "1181  This is Pippa. She managed to start the car bu...                  NaN   \n",
       "\n",
       "      retweeted_status_user_id retweeted_status_timestamp  \\\n",
       "1202                       NaN                        NaN   \n",
       "797                        NaN                        NaN   \n",
       "1868                       NaN                        NaN   \n",
       "472                        NaN                        NaN   \n",
       "1181                       NaN                        NaN   \n",
       "\n",
       "                                          expanded_urls  rating_numerator  \\\n",
       "1202  https://twitter.com/dog_rates/status/716439118...                50   \n",
       "797   https://twitter.com/dog_rates/status/773191612...                12   \n",
       "1868  https://twitter.com/dog_rates/status/675166823...                10   \n",
       "472   https://twitter.com/dog_rates/status/816450570...                13   \n",
       "1181  https://twitter.com/dog_rates/status/719332531...                11   \n",
       "\n",
       "      rating_denominator      name doggo floofer pupper puppo  \n",
       "1202                  50  Bluebert  None    None   None  None  \n",
       "797                   10      Grey  None    None   None  None  \n",
       "1868                  10    Arnold  None    None   None  None  \n",
       "472                   10     Moose  None    None   None  None  \n",
       "1181                  10     Pippa  None    None   None  None  "
      ]
     },
     "execution_count": 7,
     "metadata": {},
     "output_type": "execute_result"
    }
   ],
   "source": [
    "twitter_archive.sample(5)"
   ]
  },
  {
   "cell_type": "code",
   "execution_count": 8,
   "metadata": {},
   "outputs": [
    {
     "data": {
      "text/plain": [
       "12    558\n",
       "11    464\n",
       "10    461\n",
       "13    351\n",
       "9     158\n",
       "Name: rating_numerator, dtype: int64"
      ]
     },
     "execution_count": 8,
     "metadata": {},
     "output_type": "execute_result"
    }
   ],
   "source": [
    "twitter_archive.rating_numerator.value_counts().head()"
   ]
  },
  {
   "cell_type": "code",
   "execution_count": 9,
   "metadata": {},
   "outputs": [
    {
     "data": {
      "text/plain": [
       "<a href=\"http://twitter.com/download/iphone\" rel=\"nofollow\">Twitter for iPhone</a>     2221\n",
       "<a href=\"http://vine.co\" rel=\"nofollow\">Vine - Make a Scene</a>                          91\n",
       "<a href=\"http://twitter.com\" rel=\"nofollow\">Twitter Web Client</a>                       33\n",
       "<a href=\"https://about.twitter.com/products/tweetdeck\" rel=\"nofollow\">TweetDeck</a>      11\n",
       "Name: source, dtype: int64"
      ]
     },
     "execution_count": 9,
     "metadata": {},
     "output_type": "execute_result"
    }
   ],
   "source": [
    "# Source should be extracted from html\n",
    "\n",
    "twitter_archive.source.value_counts()"
   ]
  },
  {
   "cell_type": "code",
   "execution_count": 10,
   "metadata": {},
   "outputs": [
    {
     "name": "stdout",
     "output_type": "stream",
     "text": [
      "<class 'pandas.core.frame.DataFrame'>\n",
      "RangeIndex: 2356 entries, 0 to 2355\n",
      "Data columns (total 17 columns):\n",
      "tweet_id                      2356 non-null int64\n",
      "in_reply_to_status_id         78 non-null float64\n",
      "in_reply_to_user_id           78 non-null float64\n",
      "timestamp                     2356 non-null object\n",
      "source                        2356 non-null object\n",
      "text                          2356 non-null object\n",
      "retweeted_status_id           181 non-null float64\n",
      "retweeted_status_user_id      181 non-null float64\n",
      "retweeted_status_timestamp    181 non-null object\n",
      "expanded_urls                 2297 non-null object\n",
      "rating_numerator              2356 non-null int64\n",
      "rating_denominator            2356 non-null int64\n",
      "name                          2356 non-null object\n",
      "doggo                         2356 non-null object\n",
      "floofer                       2356 non-null object\n",
      "pupper                        2356 non-null object\n",
      "puppo                         2356 non-null object\n",
      "dtypes: float64(4), int64(3), object(10)\n",
      "memory usage: 313.0+ KB\n"
     ]
    }
   ],
   "source": [
    "twitter_archive.info()"
   ]
  },
  {
   "cell_type": "markdown",
   "metadata": {},
   "source": [
    "## Image Predictions Assessment"
   ]
  },
  {
   "cell_type": "code",
   "execution_count": 11,
   "metadata": {},
   "outputs": [
    {
     "data": {
      "text/html": [
       "<div>\n",
       "<style scoped>\n",
       "    .dataframe tbody tr th:only-of-type {\n",
       "        vertical-align: middle;\n",
       "    }\n",
       "\n",
       "    .dataframe tbody tr th {\n",
       "        vertical-align: top;\n",
       "    }\n",
       "\n",
       "    .dataframe thead th {\n",
       "        text-align: right;\n",
       "    }\n",
       "</style>\n",
       "<table border=\"1\" class=\"dataframe\">\n",
       "  <thead>\n",
       "    <tr style=\"text-align: right;\">\n",
       "      <th></th>\n",
       "      <th>tweet_id</th>\n",
       "      <th>jpg_url</th>\n",
       "      <th>img_num</th>\n",
       "      <th>p1</th>\n",
       "      <th>p1_conf</th>\n",
       "      <th>p1_dog</th>\n",
       "      <th>p2</th>\n",
       "      <th>p2_conf</th>\n",
       "      <th>p2_dog</th>\n",
       "      <th>p3</th>\n",
       "      <th>p3_conf</th>\n",
       "      <th>p3_dog</th>\n",
       "    </tr>\n",
       "  </thead>\n",
       "  <tbody>\n",
       "    <tr>\n",
       "      <th>0</th>\n",
       "      <td>666020888022790149</td>\n",
       "      <td>https://pbs.twimg.com/media/CT4udn0WwAA0aMy.jpg</td>\n",
       "      <td>1</td>\n",
       "      <td>Welsh_springer_spaniel</td>\n",
       "      <td>0.465074</td>\n",
       "      <td>True</td>\n",
       "      <td>collie</td>\n",
       "      <td>0.156665</td>\n",
       "      <td>True</td>\n",
       "      <td>Shetland_sheepdog</td>\n",
       "      <td>0.061428</td>\n",
       "      <td>True</td>\n",
       "    </tr>\n",
       "    <tr>\n",
       "      <th>1</th>\n",
       "      <td>666029285002620928</td>\n",
       "      <td>https://pbs.twimg.com/media/CT42GRgUYAA5iDo.jpg</td>\n",
       "      <td>1</td>\n",
       "      <td>redbone</td>\n",
       "      <td>0.506826</td>\n",
       "      <td>True</td>\n",
       "      <td>miniature_pinscher</td>\n",
       "      <td>0.074192</td>\n",
       "      <td>True</td>\n",
       "      <td>Rhodesian_ridgeback</td>\n",
       "      <td>0.072010</td>\n",
       "      <td>True</td>\n",
       "    </tr>\n",
       "    <tr>\n",
       "      <th>2</th>\n",
       "      <td>666033412701032449</td>\n",
       "      <td>https://pbs.twimg.com/media/CT4521TWwAEvMyu.jpg</td>\n",
       "      <td>1</td>\n",
       "      <td>German_shepherd</td>\n",
       "      <td>0.596461</td>\n",
       "      <td>True</td>\n",
       "      <td>malinois</td>\n",
       "      <td>0.138584</td>\n",
       "      <td>True</td>\n",
       "      <td>bloodhound</td>\n",
       "      <td>0.116197</td>\n",
       "      <td>True</td>\n",
       "    </tr>\n",
       "    <tr>\n",
       "      <th>3</th>\n",
       "      <td>666044226329800704</td>\n",
       "      <td>https://pbs.twimg.com/media/CT5Dr8HUEAA-lEu.jpg</td>\n",
       "      <td>1</td>\n",
       "      <td>Rhodesian_ridgeback</td>\n",
       "      <td>0.408143</td>\n",
       "      <td>True</td>\n",
       "      <td>redbone</td>\n",
       "      <td>0.360687</td>\n",
       "      <td>True</td>\n",
       "      <td>miniature_pinscher</td>\n",
       "      <td>0.222752</td>\n",
       "      <td>True</td>\n",
       "    </tr>\n",
       "    <tr>\n",
       "      <th>4</th>\n",
       "      <td>666049248165822465</td>\n",
       "      <td>https://pbs.twimg.com/media/CT5IQmsXIAAKY4A.jpg</td>\n",
       "      <td>1</td>\n",
       "      <td>miniature_pinscher</td>\n",
       "      <td>0.560311</td>\n",
       "      <td>True</td>\n",
       "      <td>Rottweiler</td>\n",
       "      <td>0.243682</td>\n",
       "      <td>True</td>\n",
       "      <td>Doberman</td>\n",
       "      <td>0.154629</td>\n",
       "      <td>True</td>\n",
       "    </tr>\n",
       "  </tbody>\n",
       "</table>\n",
       "</div>"
      ],
      "text/plain": [
       "             tweet_id                                          jpg_url  \\\n",
       "0  666020888022790149  https://pbs.twimg.com/media/CT4udn0WwAA0aMy.jpg   \n",
       "1  666029285002620928  https://pbs.twimg.com/media/CT42GRgUYAA5iDo.jpg   \n",
       "2  666033412701032449  https://pbs.twimg.com/media/CT4521TWwAEvMyu.jpg   \n",
       "3  666044226329800704  https://pbs.twimg.com/media/CT5Dr8HUEAA-lEu.jpg   \n",
       "4  666049248165822465  https://pbs.twimg.com/media/CT5IQmsXIAAKY4A.jpg   \n",
       "\n",
       "   img_num                      p1   p1_conf  p1_dog                  p2  \\\n",
       "0        1  Welsh_springer_spaniel  0.465074    True              collie   \n",
       "1        1                 redbone  0.506826    True  miniature_pinscher   \n",
       "2        1         German_shepherd  0.596461    True            malinois   \n",
       "3        1     Rhodesian_ridgeback  0.408143    True             redbone   \n",
       "4        1      miniature_pinscher  0.560311    True          Rottweiler   \n",
       "\n",
       "    p2_conf  p2_dog                   p3   p3_conf  p3_dog  \n",
       "0  0.156665    True    Shetland_sheepdog  0.061428    True  \n",
       "1  0.074192    True  Rhodesian_ridgeback  0.072010    True  \n",
       "2  0.138584    True           bloodhound  0.116197    True  \n",
       "3  0.360687    True   miniature_pinscher  0.222752    True  \n",
       "4  0.243682    True             Doberman  0.154629    True  "
      ]
     },
     "execution_count": 11,
     "metadata": {},
     "output_type": "execute_result"
    }
   ],
   "source": [
    "image_predictions.head()"
   ]
  },
  {
   "cell_type": "code",
   "execution_count": 12,
   "metadata": {},
   "outputs": [
    {
     "name": "stdout",
     "output_type": "stream",
     "text": [
      "<class 'pandas.core.frame.DataFrame'>\n",
      "RangeIndex: 2075 entries, 0 to 2074\n",
      "Data columns (total 12 columns):\n",
      "tweet_id    2075 non-null int64\n",
      "jpg_url     2075 non-null object\n",
      "img_num     2075 non-null int64\n",
      "p1          2075 non-null object\n",
      "p1_conf     2075 non-null float64\n",
      "p1_dog      2075 non-null bool\n",
      "p2          2075 non-null object\n",
      "p2_conf     2075 non-null float64\n",
      "p2_dog      2075 non-null bool\n",
      "p3          2075 non-null object\n",
      "p3_conf     2075 non-null float64\n",
      "p3_dog      2075 non-null bool\n",
      "dtypes: bool(3), float64(3), int64(2), object(4)\n",
      "memory usage: 152.1+ KB\n"
     ]
    }
   ],
   "source": [
    "image_predictions.info()"
   ]
  },
  {
   "cell_type": "markdown",
   "metadata": {},
   "source": [
    "## Tweet JSON Assessment"
   ]
  },
  {
   "cell_type": "code",
   "execution_count": 13,
   "metadata": {},
   "outputs": [
    {
     "data": {
      "text/html": [
       "<div>\n",
       "<style scoped>\n",
       "    .dataframe tbody tr th:only-of-type {\n",
       "        vertical-align: middle;\n",
       "    }\n",
       "\n",
       "    .dataframe tbody tr th {\n",
       "        vertical-align: top;\n",
       "    }\n",
       "\n",
       "    .dataframe thead th {\n",
       "        text-align: right;\n",
       "    }\n",
       "</style>\n",
       "<table border=\"1\" class=\"dataframe\">\n",
       "  <thead>\n",
       "    <tr style=\"text-align: right;\">\n",
       "      <th></th>\n",
       "      <th>contributors</th>\n",
       "      <th>coordinates</th>\n",
       "      <th>created_at</th>\n",
       "      <th>display_text_range</th>\n",
       "      <th>entities</th>\n",
       "      <th>extended_entities</th>\n",
       "      <th>favorite_count</th>\n",
       "      <th>favorited</th>\n",
       "      <th>full_text</th>\n",
       "      <th>geo</th>\n",
       "      <th>...</th>\n",
       "      <th>possibly_sensitive_appealable</th>\n",
       "      <th>quoted_status</th>\n",
       "      <th>quoted_status_id</th>\n",
       "      <th>quoted_status_id_str</th>\n",
       "      <th>retweet_count</th>\n",
       "      <th>retweeted</th>\n",
       "      <th>retweeted_status</th>\n",
       "      <th>source</th>\n",
       "      <th>truncated</th>\n",
       "      <th>user</th>\n",
       "    </tr>\n",
       "  </thead>\n",
       "  <tbody>\n",
       "    <tr>\n",
       "      <th>0</th>\n",
       "      <td>NaN</td>\n",
       "      <td>NaN</td>\n",
       "      <td>2017-08-01 16:23:56</td>\n",
       "      <td>[0, 85]</td>\n",
       "      <td>{'hashtags': [], 'symbols': [], 'user_mentions...</td>\n",
       "      <td>{'media': [{'id': 892420639486877696, 'id_str'...</td>\n",
       "      <td>39467</td>\n",
       "      <td>False</td>\n",
       "      <td>This is Phineas. He's a mystical boy. Only eve...</td>\n",
       "      <td>NaN</td>\n",
       "      <td>...</td>\n",
       "      <td>0.0</td>\n",
       "      <td>NaN</td>\n",
       "      <td>NaN</td>\n",
       "      <td>NaN</td>\n",
       "      <td>8853</td>\n",
       "      <td>False</td>\n",
       "      <td>NaN</td>\n",
       "      <td>&lt;a href=\"http://twitter.com/download/iphone\" r...</td>\n",
       "      <td>False</td>\n",
       "      <td>{'id': 4196983835, 'id_str': '4196983835', 'na...</td>\n",
       "    </tr>\n",
       "    <tr>\n",
       "      <th>1</th>\n",
       "      <td>NaN</td>\n",
       "      <td>NaN</td>\n",
       "      <td>2017-08-01 00:17:27</td>\n",
       "      <td>[0, 138]</td>\n",
       "      <td>{'hashtags': [], 'symbols': [], 'user_mentions...</td>\n",
       "      <td>{'media': [{'id': 892177413194625024, 'id_str'...</td>\n",
       "      <td>33819</td>\n",
       "      <td>False</td>\n",
       "      <td>This is Tilly. She's just checking pup on you....</td>\n",
       "      <td>NaN</td>\n",
       "      <td>...</td>\n",
       "      <td>0.0</td>\n",
       "      <td>NaN</td>\n",
       "      <td>NaN</td>\n",
       "      <td>NaN</td>\n",
       "      <td>6514</td>\n",
       "      <td>False</td>\n",
       "      <td>NaN</td>\n",
       "      <td>&lt;a href=\"http://twitter.com/download/iphone\" r...</td>\n",
       "      <td>False</td>\n",
       "      <td>{'id': 4196983835, 'id_str': '4196983835', 'na...</td>\n",
       "    </tr>\n",
       "    <tr>\n",
       "      <th>2</th>\n",
       "      <td>NaN</td>\n",
       "      <td>NaN</td>\n",
       "      <td>2017-07-31 00:18:03</td>\n",
       "      <td>[0, 121]</td>\n",
       "      <td>{'hashtags': [], 'symbols': [], 'user_mentions...</td>\n",
       "      <td>{'media': [{'id': 891815175371796480, 'id_str'...</td>\n",
       "      <td>25461</td>\n",
       "      <td>False</td>\n",
       "      <td>This is Archie. He is a rare Norwegian Pouncin...</td>\n",
       "      <td>NaN</td>\n",
       "      <td>...</td>\n",
       "      <td>0.0</td>\n",
       "      <td>NaN</td>\n",
       "      <td>NaN</td>\n",
       "      <td>NaN</td>\n",
       "      <td>4328</td>\n",
       "      <td>False</td>\n",
       "      <td>NaN</td>\n",
       "      <td>&lt;a href=\"http://twitter.com/download/iphone\" r...</td>\n",
       "      <td>False</td>\n",
       "      <td>{'id': 4196983835, 'id_str': '4196983835', 'na...</td>\n",
       "    </tr>\n",
       "    <tr>\n",
       "      <th>3</th>\n",
       "      <td>NaN</td>\n",
       "      <td>NaN</td>\n",
       "      <td>2017-07-30 15:58:51</td>\n",
       "      <td>[0, 79]</td>\n",
       "      <td>{'hashtags': [], 'symbols': [], 'user_mentions...</td>\n",
       "      <td>{'media': [{'id': 891689552724799489, 'id_str'...</td>\n",
       "      <td>42908</td>\n",
       "      <td>False</td>\n",
       "      <td>This is Darla. She commenced a snooze mid meal...</td>\n",
       "      <td>NaN</td>\n",
       "      <td>...</td>\n",
       "      <td>0.0</td>\n",
       "      <td>NaN</td>\n",
       "      <td>NaN</td>\n",
       "      <td>NaN</td>\n",
       "      <td>8964</td>\n",
       "      <td>False</td>\n",
       "      <td>NaN</td>\n",
       "      <td>&lt;a href=\"http://twitter.com/download/iphone\" r...</td>\n",
       "      <td>False</td>\n",
       "      <td>{'id': 4196983835, 'id_str': '4196983835', 'na...</td>\n",
       "    </tr>\n",
       "    <tr>\n",
       "      <th>4</th>\n",
       "      <td>NaN</td>\n",
       "      <td>NaN</td>\n",
       "      <td>2017-07-29 16:00:24</td>\n",
       "      <td>[0, 138]</td>\n",
       "      <td>{'hashtags': [{'text': 'BarkWeek', 'indices': ...</td>\n",
       "      <td>{'media': [{'id': 891327551943041024, 'id_str'...</td>\n",
       "      <td>41048</td>\n",
       "      <td>False</td>\n",
       "      <td>This is Franklin. He would like you to stop ca...</td>\n",
       "      <td>NaN</td>\n",
       "      <td>...</td>\n",
       "      <td>0.0</td>\n",
       "      <td>NaN</td>\n",
       "      <td>NaN</td>\n",
       "      <td>NaN</td>\n",
       "      <td>9774</td>\n",
       "      <td>False</td>\n",
       "      <td>NaN</td>\n",
       "      <td>&lt;a href=\"http://twitter.com/download/iphone\" r...</td>\n",
       "      <td>False</td>\n",
       "      <td>{'id': 4196983835, 'id_str': '4196983835', 'na...</td>\n",
       "    </tr>\n",
       "  </tbody>\n",
       "</table>\n",
       "<p>5 rows × 31 columns</p>\n",
       "</div>"
      ],
      "text/plain": [
       "   contributors  coordinates          created_at display_text_range  \\\n",
       "0           NaN          NaN 2017-08-01 16:23:56            [0, 85]   \n",
       "1           NaN          NaN 2017-08-01 00:17:27           [0, 138]   \n",
       "2           NaN          NaN 2017-07-31 00:18:03           [0, 121]   \n",
       "3           NaN          NaN 2017-07-30 15:58:51            [0, 79]   \n",
       "4           NaN          NaN 2017-07-29 16:00:24           [0, 138]   \n",
       "\n",
       "                                            entities  \\\n",
       "0  {'hashtags': [], 'symbols': [], 'user_mentions...   \n",
       "1  {'hashtags': [], 'symbols': [], 'user_mentions...   \n",
       "2  {'hashtags': [], 'symbols': [], 'user_mentions...   \n",
       "3  {'hashtags': [], 'symbols': [], 'user_mentions...   \n",
       "4  {'hashtags': [{'text': 'BarkWeek', 'indices': ...   \n",
       "\n",
       "                                   extended_entities  favorite_count  \\\n",
       "0  {'media': [{'id': 892420639486877696, 'id_str'...           39467   \n",
       "1  {'media': [{'id': 892177413194625024, 'id_str'...           33819   \n",
       "2  {'media': [{'id': 891815175371796480, 'id_str'...           25461   \n",
       "3  {'media': [{'id': 891689552724799489, 'id_str'...           42908   \n",
       "4  {'media': [{'id': 891327551943041024, 'id_str'...           41048   \n",
       "\n",
       "   favorited                                          full_text  geo  ...  \\\n",
       "0      False  This is Phineas. He's a mystical boy. Only eve...  NaN  ...   \n",
       "1      False  This is Tilly. She's just checking pup on you....  NaN  ...   \n",
       "2      False  This is Archie. He is a rare Norwegian Pouncin...  NaN  ...   \n",
       "3      False  This is Darla. She commenced a snooze mid meal...  NaN  ...   \n",
       "4      False  This is Franklin. He would like you to stop ca...  NaN  ...   \n",
       "\n",
       "   possibly_sensitive_appealable  quoted_status quoted_status_id  \\\n",
       "0                            0.0            NaN              NaN   \n",
       "1                            0.0            NaN              NaN   \n",
       "2                            0.0            NaN              NaN   \n",
       "3                            0.0            NaN              NaN   \n",
       "4                            0.0            NaN              NaN   \n",
       "\n",
       "   quoted_status_id_str  retweet_count  retweeted  retweeted_status  \\\n",
       "0                   NaN           8853      False               NaN   \n",
       "1                   NaN           6514      False               NaN   \n",
       "2                   NaN           4328      False               NaN   \n",
       "3                   NaN           8964      False               NaN   \n",
       "4                   NaN           9774      False               NaN   \n",
       "\n",
       "                                              source truncated  \\\n",
       "0  <a href=\"http://twitter.com/download/iphone\" r...     False   \n",
       "1  <a href=\"http://twitter.com/download/iphone\" r...     False   \n",
       "2  <a href=\"http://twitter.com/download/iphone\" r...     False   \n",
       "3  <a href=\"http://twitter.com/download/iphone\" r...     False   \n",
       "4  <a href=\"http://twitter.com/download/iphone\" r...     False   \n",
       "\n",
       "                                                user  \n",
       "0  {'id': 4196983835, 'id_str': '4196983835', 'na...  \n",
       "1  {'id': 4196983835, 'id_str': '4196983835', 'na...  \n",
       "2  {'id': 4196983835, 'id_str': '4196983835', 'na...  \n",
       "3  {'id': 4196983835, 'id_str': '4196983835', 'na...  \n",
       "4  {'id': 4196983835, 'id_str': '4196983835', 'na...  \n",
       "\n",
       "[5 rows x 31 columns]"
      ]
     },
     "execution_count": 13,
     "metadata": {},
     "output_type": "execute_result"
    }
   ],
   "source": [
    "tweet_json.head()"
   ]
  },
  {
   "cell_type": "code",
   "execution_count": 14,
   "metadata": {},
   "outputs": [
    {
     "data": {
      "text/plain": [
       "<a href=\"http://twitter.com/download/iphone\" rel=\"nofollow\">Twitter for iPhone</a>     2219\n",
       "<a href=\"http://vine.co\" rel=\"nofollow\">Vine - Make a Scene</a>                          91\n",
       "<a href=\"http://twitter.com\" rel=\"nofollow\">Twitter Web Client</a>                       33\n",
       "<a href=\"https://about.twitter.com/products/tweetdeck\" rel=\"nofollow\">TweetDeck</a>      11\n",
       "Name: source, dtype: int64"
      ]
     },
     "execution_count": 14,
     "metadata": {},
     "output_type": "execute_result"
    }
   ],
   "source": [
    "tweet_json.source.value_counts()"
   ]
  },
  {
   "cell_type": "code",
   "execution_count": 15,
   "metadata": {},
   "outputs": [
    {
     "name": "stdout",
     "output_type": "stream",
     "text": [
      "<class 'pandas.core.frame.DataFrame'>\n",
      "RangeIndex: 2354 entries, 0 to 2353\n",
      "Data columns (total 31 columns):\n",
      "contributors                     0 non-null float64\n",
      "coordinates                      0 non-null float64\n",
      "created_at                       2354 non-null datetime64[ns]\n",
      "display_text_range               2354 non-null object\n",
      "entities                         2354 non-null object\n",
      "extended_entities                2073 non-null object\n",
      "favorite_count                   2354 non-null int64\n",
      "favorited                        2354 non-null bool\n",
      "full_text                        2354 non-null object\n",
      "geo                              0 non-null float64\n",
      "id                               2354 non-null int64\n",
      "id_str                           2354 non-null int64\n",
      "in_reply_to_screen_name          78 non-null object\n",
      "in_reply_to_status_id            78 non-null float64\n",
      "in_reply_to_status_id_str        78 non-null float64\n",
      "in_reply_to_user_id              78 non-null float64\n",
      "in_reply_to_user_id_str          78 non-null float64\n",
      "is_quote_status                  2354 non-null bool\n",
      "lang                             2354 non-null object\n",
      "place                            1 non-null object\n",
      "possibly_sensitive               2211 non-null float64\n",
      "possibly_sensitive_appealable    2211 non-null float64\n",
      "quoted_status                    28 non-null object\n",
      "quoted_status_id                 29 non-null float64\n",
      "quoted_status_id_str             29 non-null float64\n",
      "retweet_count                    2354 non-null int64\n",
      "retweeted                        2354 non-null bool\n",
      "retweeted_status                 179 non-null object\n",
      "source                           2354 non-null object\n",
      "truncated                        2354 non-null bool\n",
      "user                             2354 non-null object\n",
      "dtypes: bool(4), datetime64[ns](1), float64(11), int64(4), object(11)\n",
      "memory usage: 505.8+ KB\n"
     ]
    }
   ],
   "source": [
    "tweet_json.info()"
   ]
  },
  {
   "cell_type": "markdown",
   "metadata": {},
   "source": [
    "## Twitter Archive\n",
    "#### Tidiness\n",
    "- [x] Seperate replies and retweets into their own tables\n",
    "- [x] Values doggo, floofer pupper, and puppo should be a single variable  - dogtionary\n",
    "\n",
    "#### Clean\n",
    "- [x] Dogtionary should be category\n",
    "- [x] Time stamp to date time\n",
    "- [x] All IDs - string / object\n",
    "- [x] Extract source from html\n",
    "- [x] Numerator and denominator wrong data type and extracting incorrect fractions\n",
    "- [x] Numerator and denominator converted to a ratio as a means to normalize the data.\n",
    "- [x] Name should should fix a, and the names\n",
    "- [x] Name should have none converted to np.nan\n",
    "- [x] Dogtionary extracting more than one value\n",
    "\n",
    "## Image Prediction\n",
    "#### Tidiness\n",
    "- [x] There are three observations - p1, p2, p3 should be restructured into pass [1, 2, 3] then prediction and select the highest confidence label (group by on ID where conf max)\n",
    "\n",
    "#### Clean\n",
    "- [x] IDs should be objects\n",
    "- [x] Select highest confidence pass and drop confidence, and classification_pass columns\n",
    "\n",
    "## Tweet JSON\n",
    "#### Tidiness\n",
    "- [x] Select only necessary columns (those different from \n",
    "\n",
    "#### Clean\n",
    "- [x] IDs should be objects\n",
    "- [x] display_text_range - should be single character count - character_count"
   ]
  },
  {
   "cell_type": "markdown",
   "metadata": {},
   "source": [
    "# Clean"
   ]
  },
  {
   "cell_type": "code",
   "execution_count": 16,
   "metadata": {},
   "outputs": [],
   "source": [
    "twitter_archive_clean = twitter_archive.copy()\n",
    "image_predictions_clean = image_predictions.copy()\n",
    "tweet_json_clean = tweet_json.copy()"
   ]
  },
  {
   "cell_type": "markdown",
   "metadata": {},
   "source": [
    "### Twitter Archive Tidiness"
   ]
  },
  {
   "cell_type": "markdown",
   "metadata": {},
   "source": [
    "#### `Twitter Archive`: Extract Replies and Retweets Tables\n",
    "\n",
    "***Define:*** Will create two seperate tables with foreign keys linking to WeRateDogs"
   ]
  },
  {
   "cell_type": "code",
   "execution_count": 17,
   "metadata": {},
   "outputs": [],
   "source": [
    "# Replies archive\n",
    "\n",
    "reply_cols= ['tweet_id', 'in_reply_to_status_id', 'in_reply_to_user_id', \n",
    "             'timestamp', 'source', 'text', 'rating_numerator',\n",
    "             'rating_denominator']\n",
    "\n",
    "replies_twitter_archive = twitter_archive_clean.query('in_reply_to_status_id == in_reply_to_status_id')[reply_cols].reset_index(drop=True)"
   ]
  },
  {
   "cell_type": "code",
   "execution_count": 18,
   "metadata": {},
   "outputs": [],
   "source": [
    "# Tweet archive\n",
    "\n",
    "retweet_cols = ['tweet_id', 'source', 'retweeted_status_id', \n",
    "                'retweeted_status_user_id', 'retweeted_status_timestamp']\n",
    "\n",
    "retweet_twitter_archive = twitter_archive_clean.query('retweeted_status_id == retweeted_status_id')[retweet_cols].reset_index(drop=True)"
   ]
  },
  {
   "cell_type": "code",
   "execution_count": 19,
   "metadata": {},
   "outputs": [],
   "source": [
    "# Twitter archive\n",
    "\n",
    "archive_cols = ['tweet_id', 'timestamp', 'source', 'text', \n",
    "                'expanded_urls', 'rating_numerator','rating_denominator', \n",
    "                'name', 'doggo', 'floofer', 'pupper', 'puppo']\n",
    "\n",
    "twitter_archive_clean = twitter_archive_clean.query('retweeted_status_id != retweeted_status_id & in_reply_to_status_id != in_reply_to_status_id')[archive_cols]"
   ]
  },
  {
   "cell_type": "markdown",
   "metadata": {},
   "source": [
    "#### `Twitter Archive`: Convert dogtionary values into a single column - dogtionary\n",
    "\n",
    "***Define:*** use apply method to execute a lambda function across doggo, floofer, pupper, and puppo columns to concatenate them into a single dogtionary variable."
   ]
  },
  {
   "cell_type": "code",
   "execution_count": 20,
   "metadata": {},
   "outputs": [],
   "source": [
    "# Convert values doggo, floofer, pupper, and puppo into single categorical variable - dogtionary. \n",
    "\n",
    "dogtionary_cols = ['doggo', 'floofer', 'pupper', 'puppo']\n",
    "\n",
    "dogtionary = twitter_archive_clean[dogtionary_cols].replace('None', '')\n",
    "twitter_archive_clean['dogtionary'] = dogtionary.apply(lambda x: ''.join(x), axis=1).replace('^$', np.nan, regex=True)\n",
    "\n",
    "twitter_archive_clean.drop(dogtionary_cols, axis=1, inplace=True)"
   ]
  },
  {
   "cell_type": "code",
   "execution_count": 21,
   "metadata": {
    "scrolled": true
   },
   "outputs": [
    {
     "data": {
      "text/plain": [
       "pupper          221\n",
       "doggo            72\n",
       "puppo            23\n",
       "doggopupper       9\n",
       "floofer           9\n",
       "doggofloofer      1\n",
       "doggopuppo        1\n",
       "Name: dogtionary, dtype: int64"
      ]
     },
     "execution_count": 21,
     "metadata": {},
     "output_type": "execute_result"
    }
   ],
   "source": [
    "# Test dogtionary column\n",
    "\n",
    "twitter_archive_clean.dogtionary.value_counts()"
   ]
  },
  {
   "cell_type": "code",
   "execution_count": 22,
   "metadata": {},
   "outputs": [],
   "source": [
    "# Looking at the data that has multiple, most reference two dogs - I will correct by removing these rows.\n",
    "\n",
    "multiple = ['doggopupper', 'doggopuppo', 'doggofloofer']\n",
    "    \n",
    "twitter_archive_clean = twitter_archive_clean.query('dogtionary not in @multiple')"
   ]
  },
  {
   "cell_type": "markdown",
   "metadata": {},
   "source": [
    "### Twitter Archive Cleanliness"
   ]
  },
  {
   "cell_type": "markdown",
   "metadata": {},
   "source": [
    "#### `Twitter Archive`: Fixing data types \n",
    "\n",
    "***Define:*** timestamp to datetime object, IDs to objects, dogtionary to category"
   ]
  },
  {
   "cell_type": "code",
   "execution_count": 23,
   "metadata": {},
   "outputs": [],
   "source": [
    "twitter_archive_clean['timestamp'] = pd.to_datetime(twitter_archive_clean.timestamp)\n",
    "retweet_twitter_archive['retweeted_status_timestamp'] = pd.to_datetime(retweet_twitter_archive.retweeted_status_timestamp)"
   ]
  },
  {
   "cell_type": "code",
   "execution_count": 24,
   "metadata": {},
   "outputs": [],
   "source": [
    "twitter_archive_clean['tweet_id'] = twitter_archive_clean.tweet_id.astype('object')\n",
    "replies_twitter_archive['in_reply_to_status_id'] = replies_twitter_archive.in_reply_to_status_id.astype('object')\n",
    "replies_twitter_archive['in_reply_to_user_id'] = replies_twitter_archive.in_reply_to_user_id.astype('object')\n",
    "retweet_twitter_archive['retweeted_status_id'] = retweet_twitter_archive.retweeted_status_id.astype('object')\n",
    "retweet_twitter_archive['retweeted_status_user_id'] = retweet_twitter_archive.retweeted_status_user_id.astype('object')"
   ]
  },
  {
   "cell_type": "code",
   "execution_count": 25,
   "metadata": {},
   "outputs": [],
   "source": [
    "twitter_archive_clean['dogtionary'] = twitter_archive_clean.dogtionary.astype('category')"
   ]
  },
  {
   "cell_type": "code",
   "execution_count": 26,
   "metadata": {},
   "outputs": [
    {
     "name": "stdout",
     "output_type": "stream",
     "text": [
      "<class 'pandas.core.frame.DataFrame'>\n",
      "Int64Index: 2086 entries, 0 to 2355\n",
      "Data columns (total 9 columns):\n",
      "tweet_id              2086 non-null object\n",
      "timestamp             2086 non-null datetime64[ns, UTC]\n",
      "source                2086 non-null object\n",
      "text                  2086 non-null object\n",
      "expanded_urls         2083 non-null object\n",
      "rating_numerator      2086 non-null int64\n",
      "rating_denominator    2086 non-null int64\n",
      "name                  2086 non-null object\n",
      "dogtionary            325 non-null category\n",
      "dtypes: category(1), datetime64[ns, UTC](1), int64(2), object(5)\n",
      "memory usage: 148.9+ KB\n"
     ]
    }
   ],
   "source": [
    "# Check types have been assigned correctly\n",
    "\n",
    "twitter_archive_clean.info()"
   ]
  },
  {
   "cell_type": "markdown",
   "metadata": {},
   "source": [
    "#### `Twitter Archive`: Source stored as HTML\n",
    "\n",
    "***Define:*** Because there are only four values in this data set - I will manually create a dictionary to map the values, and then use the replace method to replace them."
   ]
  },
  {
   "cell_type": "code",
   "execution_count": 27,
   "metadata": {},
   "outputs": [
    {
     "data": {
      "text/plain": [
       "<a href=\"http://twitter.com/download/iphone\" rel=\"nofollow\">Twitter for iPhone</a>     1954\n",
       "<a href=\"http://vine.co\" rel=\"nofollow\">Vine - Make a Scene</a>                          90\n",
       "<a href=\"http://twitter.com\" rel=\"nofollow\">Twitter Web Client</a>                       31\n",
       "<a href=\"https://about.twitter.com/products/tweetdeck\" rel=\"nofollow\">TweetDeck</a>      11\n",
       "Name: source, dtype: int64"
      ]
     },
     "execution_count": 27,
     "metadata": {},
     "output_type": "execute_result"
    }
   ],
   "source": [
    "twitter_archive_clean.source.value_counts()"
   ]
  },
  {
   "cell_type": "code",
   "execution_count": 28,
   "metadata": {},
   "outputs": [],
   "source": [
    "# replace source contents by using below dictionary\n",
    "\n",
    "sources = {\n",
    "    '<a href=\"http://twitter.com/download/iphone\" rel=\"nofollow\">Twitter for iPhone</a>': 'Twitter iPhone',\n",
    "    '<a href=\"http://vine.co\" rel=\"nofollow\">Vine - Make a Scene</a>': 'Vine',\n",
    "    '<a href=\"http://twitter.com\" rel=\"nofollow\">Twitter Web Client</a>': 'Twitter Web',\n",
    "    '<a href=\"https://about.twitter.com/products/tweetdeck\" rel=\"nofollow\">TweetDeck</a>': 'TweetDeck'\n",
    "          }\n",
    "for df in [twitter_archive_clean, replies_twitter_archive, retweet_twitter_archive]:\n",
    "    df['source'] = df.source.replace(sources)"
   ]
  },
  {
   "cell_type": "code",
   "execution_count": 29,
   "metadata": {},
   "outputs": [
    {
     "data": {
      "text/plain": [
       "Twitter iPhone    1954\n",
       "Vine                90\n",
       "Twitter Web         31\n",
       "TweetDeck           11\n",
       "Name: source, dtype: int64"
      ]
     },
     "execution_count": 29,
     "metadata": {},
     "output_type": "execute_result"
    }
   ],
   "source": [
    "# test by comparing value count to previous value counts\n",
    "\n",
    "twitter_archive_clean.source.value_counts()"
   ]
  },
  {
   "cell_type": "markdown",
   "metadata": {},
   "source": [
    "#### `Twitter Archive`: Resolve numerator and denominator columns\n",
    "\n",
    "***Define:*** Fix the regex so that the denominator ends in 0."
   ]
  },
  {
   "cell_type": "code",
   "execution_count": 30,
   "metadata": {},
   "outputs": [
    {
     "data": {
      "text/plain": [
       "10     2069\n",
       "50        3\n",
       "11        2\n",
       "80        2\n",
       "7         1\n",
       "170       1\n",
       "150       1\n",
       "120       1\n",
       "110       1\n",
       "90        1\n",
       "70        1\n",
       "40        1\n",
       "20        1\n",
       "2         1\n",
       "Name: rating_denominator, dtype: int64"
      ]
     },
     "execution_count": 30,
     "metadata": {},
     "output_type": "execute_result"
    }
   ],
   "source": [
    "# denominator values\n",
    "\n",
    "twitter_archive_clean.rating_denominator.value_counts()"
   ]
  },
  {
   "cell_type": "code",
   "execution_count": 31,
   "metadata": {},
   "outputs": [
    {
     "data": {
      "text/plain": [
       "['After so many requests, this is Bretagne. She was the last surviving 9/11 search dog, and our second ever 14/10. RIP https://t.co/XAVDNDaVgQ',\n",
       " 'This is Darrel. He just robbed a 7/11 and is in a high speed police chase. Was just spotted by the helicopter 10/10 https://t.co/7EsP8LmSp5']"
      ]
     },
     "execution_count": 31,
     "metadata": {},
     "output_type": "execute_result"
    }
   ],
   "source": [
    "# verify that 11 is incorrect fraction extracted\n",
    "\n",
    "twitter_archive_clean.query('rating_denominator == 11').text.to_list()"
   ]
  },
  {
   "cell_type": "code",
   "execution_count": 32,
   "metadata": {},
   "outputs": [],
   "source": [
    "twitter_archive_clean['test'] = twitter_archive_clean.text.str.extract('(\\d+(?:\\.\\d+)?/\\d+(?:\\.\\d+)?0)', expand=True)[0]"
   ]
  },
  {
   "cell_type": "code",
   "execution_count": 33,
   "metadata": {},
   "outputs": [],
   "source": [
    "twitter_archive_clean.dropna(subset=['test'], inplace=True)"
   ]
  },
  {
   "cell_type": "code",
   "execution_count": 34,
   "metadata": {},
   "outputs": [
    {
     "data": {
      "text/html": [
       "<div>\n",
       "<style scoped>\n",
       "    .dataframe tbody tr th:only-of-type {\n",
       "        vertical-align: middle;\n",
       "    }\n",
       "\n",
       "    .dataframe tbody tr th {\n",
       "        vertical-align: top;\n",
       "    }\n",
       "\n",
       "    .dataframe thead th {\n",
       "        text-align: right;\n",
       "    }\n",
       "</style>\n",
       "<table border=\"1\" class=\"dataframe\">\n",
       "  <thead>\n",
       "    <tr style=\"text-align: right;\">\n",
       "      <th></th>\n",
       "      <th>tweet_id</th>\n",
       "      <th>timestamp</th>\n",
       "      <th>source</th>\n",
       "      <th>text</th>\n",
       "      <th>expanded_urls</th>\n",
       "      <th>rating_numerator</th>\n",
       "      <th>rating_denominator</th>\n",
       "      <th>name</th>\n",
       "      <th>dogtionary</th>\n",
       "      <th>test</th>\n",
       "    </tr>\n",
       "  </thead>\n",
       "  <tbody>\n",
       "    <tr>\n",
       "      <th>1068</th>\n",
       "      <td>740373189193256964</td>\n",
       "      <td>2016-06-08 02:41:38+00:00</td>\n",
       "      <td>Twitter iPhone</td>\n",
       "      <td>After so many requests, this is Bretagne. She ...</td>\n",
       "      <td>https://twitter.com/dog_rates/status/740373189...</td>\n",
       "      <td>9</td>\n",
       "      <td>11</td>\n",
       "      <td>None</td>\n",
       "      <td>NaN</td>\n",
       "      <td>14/10</td>\n",
       "    </tr>\n",
       "    <tr>\n",
       "      <th>1662</th>\n",
       "      <td>682962037429899265</td>\n",
       "      <td>2016-01-01 16:30:13+00:00</td>\n",
       "      <td>Twitter iPhone</td>\n",
       "      <td>This is Darrel. He just robbed a 7/11 and is i...</td>\n",
       "      <td>https://twitter.com/dog_rates/status/682962037...</td>\n",
       "      <td>7</td>\n",
       "      <td>11</td>\n",
       "      <td>Darrel</td>\n",
       "      <td>NaN</td>\n",
       "      <td>10/10</td>\n",
       "    </tr>\n",
       "  </tbody>\n",
       "</table>\n",
       "</div>"
      ],
      "text/plain": [
       "                tweet_id                 timestamp          source  \\\n",
       "1068  740373189193256964 2016-06-08 02:41:38+00:00  Twitter iPhone   \n",
       "1662  682962037429899265 2016-01-01 16:30:13+00:00  Twitter iPhone   \n",
       "\n",
       "                                                   text  \\\n",
       "1068  After so many requests, this is Bretagne. She ...   \n",
       "1662  This is Darrel. He just robbed a 7/11 and is i...   \n",
       "\n",
       "                                          expanded_urls  rating_numerator  \\\n",
       "1068  https://twitter.com/dog_rates/status/740373189...                 9   \n",
       "1662  https://twitter.com/dog_rates/status/682962037...                 7   \n",
       "\n",
       "      rating_denominator    name dogtionary   test  \n",
       "1068                  11    None        NaN  14/10  \n",
       "1662                  11  Darrel        NaN  10/10  "
      ]
     },
     "execution_count": 34,
     "metadata": {},
     "output_type": "execute_result"
    }
   ],
   "source": [
    "# test\n",
    "\n",
    "twitter_archive_clean.query('rating_denominator == 11')"
   ]
  },
  {
   "cell_type": "code",
   "execution_count": 35,
   "metadata": {},
   "outputs": [],
   "source": [
    "# assign new ratings to the numerator and denominator column \n",
    "\n",
    "twitter_archive_clean['rating_numerator'] = twitter_archive_clean.test.str.split('/').str[0].astype('float32')\n",
    "twitter_archive_clean['rating_denominator'] = twitter_archive_clean.test.str.split('/').str[1].astype('int32')"
   ]
  },
  {
   "cell_type": "code",
   "execution_count": 36,
   "metadata": {},
   "outputs": [
    {
     "name": "stdout",
     "output_type": "stream",
     "text": [
      "<class 'pandas.core.frame.DataFrame'>\n",
      "Int64Index: 2085 entries, 0 to 2355\n",
      "Data columns (total 10 columns):\n",
      "tweet_id              2085 non-null object\n",
      "timestamp             2085 non-null datetime64[ns, UTC]\n",
      "source                2085 non-null object\n",
      "text                  2085 non-null object\n",
      "expanded_urls         2082 non-null object\n",
      "rating_numerator      2085 non-null float32\n",
      "rating_denominator    2085 non-null int32\n",
      "name                  2085 non-null object\n",
      "dogtionary            325 non-null category\n",
      "test                  2085 non-null object\n",
      "dtypes: category(1), datetime64[ns, UTC](1), float32(1), int32(1), object(6)\n",
      "memory usage: 148.8+ KB\n"
     ]
    }
   ],
   "source": [
    "twitter_archive_clean.info()"
   ]
  },
  {
   "cell_type": "code",
   "execution_count": 37,
   "metadata": {},
   "outputs": [
    {
     "data": {
      "text/html": [
       "<div>\n",
       "<style scoped>\n",
       "    .dataframe tbody tr th:only-of-type {\n",
       "        vertical-align: middle;\n",
       "    }\n",
       "\n",
       "    .dataframe tbody tr th {\n",
       "        vertical-align: top;\n",
       "    }\n",
       "\n",
       "    .dataframe thead th {\n",
       "        text-align: right;\n",
       "    }\n",
       "</style>\n",
       "<table border=\"1\" class=\"dataframe\">\n",
       "  <thead>\n",
       "    <tr style=\"text-align: right;\">\n",
       "      <th></th>\n",
       "      <th>tweet_id</th>\n",
       "      <th>timestamp</th>\n",
       "      <th>source</th>\n",
       "      <th>text</th>\n",
       "      <th>expanded_urls</th>\n",
       "      <th>rating_numerator</th>\n",
       "      <th>rating_denominator</th>\n",
       "      <th>name</th>\n",
       "      <th>dogtionary</th>\n",
       "      <th>test</th>\n",
       "    </tr>\n",
       "  </thead>\n",
       "  <tbody>\n",
       "    <tr>\n",
       "      <th>1953</th>\n",
       "      <td>673662677122719744</td>\n",
       "      <td>2015-12-07 00:37:52+00:00</td>\n",
       "      <td>Twitter iPhone</td>\n",
       "      <td>This is Kendall. 12/10 would cuddle the hell o...</td>\n",
       "      <td>https://twitter.com/dog_rates/status/673662677...</td>\n",
       "      <td>12.0</td>\n",
       "      <td>10</td>\n",
       "      <td>Kendall</td>\n",
       "      <td>NaN</td>\n",
       "      <td>12/10</td>\n",
       "    </tr>\n",
       "    <tr>\n",
       "      <th>67</th>\n",
       "      <td>879376492567855104</td>\n",
       "      <td>2017-06-26 16:31:08+00:00</td>\n",
       "      <td>Twitter iPhone</td>\n",
       "      <td>This is Jack AKA Stephen Furry. You're not sco...</td>\n",
       "      <td>https://twitter.com/dog_rates/status/879376492...</td>\n",
       "      <td>12.0</td>\n",
       "      <td>10</td>\n",
       "      <td>Jack</td>\n",
       "      <td>NaN</td>\n",
       "      <td>12/10</td>\n",
       "    </tr>\n",
       "    <tr>\n",
       "      <th>1881</th>\n",
       "      <td>675003128568291329</td>\n",
       "      <td>2015-12-10 17:24:21+00:00</td>\n",
       "      <td>Twitter iPhone</td>\n",
       "      <td>Meet Laela. She's adorable. Magnificent eyes. ...</td>\n",
       "      <td>https://twitter.com/dog_rates/status/675003128...</td>\n",
       "      <td>12.0</td>\n",
       "      <td>10</td>\n",
       "      <td>Laela</td>\n",
       "      <td>NaN</td>\n",
       "      <td>12/10</td>\n",
       "    </tr>\n",
       "    <tr>\n",
       "      <th>1985</th>\n",
       "      <td>672898206762672129</td>\n",
       "      <td>2015-12-04 22:00:08+00:00</td>\n",
       "      <td>Twitter iPhone</td>\n",
       "      <td>This is Cheryl AKA Queen Pupper of the Skies. ...</td>\n",
       "      <td>https://twitter.com/dog_rates/status/672898206...</td>\n",
       "      <td>11.0</td>\n",
       "      <td>10</td>\n",
       "      <td>Cheryl</td>\n",
       "      <td>pupper</td>\n",
       "      <td>11/10</td>\n",
       "    </tr>\n",
       "    <tr>\n",
       "      <th>1576</th>\n",
       "      <td>687460506001633280</td>\n",
       "      <td>2016-01-14 02:25:31+00:00</td>\n",
       "      <td>Twitter iPhone</td>\n",
       "      <td>This is Kramer. He's a Picasso Tortellini. Tie...</td>\n",
       "      <td>https://twitter.com/dog_rates/status/687460506...</td>\n",
       "      <td>10.0</td>\n",
       "      <td>10</td>\n",
       "      <td>Kramer</td>\n",
       "      <td>NaN</td>\n",
       "      <td>10/10</td>\n",
       "    </tr>\n",
       "  </tbody>\n",
       "</table>\n",
       "</div>"
      ],
      "text/plain": [
       "                tweet_id                 timestamp          source  \\\n",
       "1953  673662677122719744 2015-12-07 00:37:52+00:00  Twitter iPhone   \n",
       "67    879376492567855104 2017-06-26 16:31:08+00:00  Twitter iPhone   \n",
       "1881  675003128568291329 2015-12-10 17:24:21+00:00  Twitter iPhone   \n",
       "1985  672898206762672129 2015-12-04 22:00:08+00:00  Twitter iPhone   \n",
       "1576  687460506001633280 2016-01-14 02:25:31+00:00  Twitter iPhone   \n",
       "\n",
       "                                                   text  \\\n",
       "1953  This is Kendall. 12/10 would cuddle the hell o...   \n",
       "67    This is Jack AKA Stephen Furry. You're not sco...   \n",
       "1881  Meet Laela. She's adorable. Magnificent eyes. ...   \n",
       "1985  This is Cheryl AKA Queen Pupper of the Skies. ...   \n",
       "1576  This is Kramer. He's a Picasso Tortellini. Tie...   \n",
       "\n",
       "                                          expanded_urls  rating_numerator  \\\n",
       "1953  https://twitter.com/dog_rates/status/673662677...              12.0   \n",
       "67    https://twitter.com/dog_rates/status/879376492...              12.0   \n",
       "1881  https://twitter.com/dog_rates/status/675003128...              12.0   \n",
       "1985  https://twitter.com/dog_rates/status/672898206...              11.0   \n",
       "1576  https://twitter.com/dog_rates/status/687460506...              10.0   \n",
       "\n",
       "      rating_denominator     name dogtionary   test  \n",
       "1953                  10  Kendall        NaN  12/10  \n",
       "67                    10     Jack        NaN  12/10  \n",
       "1881                  10    Laela        NaN  12/10  \n",
       "1985                  10   Cheryl     pupper  11/10  \n",
       "1576                  10   Kramer        NaN  10/10  "
      ]
     },
     "execution_count": 37,
     "metadata": {},
     "output_type": "execute_result"
    }
   ],
   "source": [
    "# ensure that the assigned rating columns match the test column\n",
    "\n",
    "twitter_archive_clean.sample(5)"
   ]
  },
  {
   "cell_type": "code",
   "execution_count": 38,
   "metadata": {},
   "outputs": [],
   "source": [
    "# drop test column\n",
    "\n",
    "twitter_archive_clean.drop('test', axis=1, inplace=True)"
   ]
  },
  {
   "cell_type": "markdown",
   "metadata": {},
   "source": [
    "#### `Twitter Archive`: Create ratio rating column\n",
    "\n",
    "***Define:*** will assign a column to ratio by dividing numerator by denominator"
   ]
  },
  {
   "cell_type": "code",
   "execution_count": 39,
   "metadata": {},
   "outputs": [],
   "source": [
    "twitter_archive_clean['rating_ratio'] = twitter_archive_clean.rating_numerator / twitter_archive_clean.rating_denominator"
   ]
  },
  {
   "cell_type": "code",
   "execution_count": 40,
   "metadata": {},
   "outputs": [
    {
     "data": {
      "text/html": [
       "<div>\n",
       "<style scoped>\n",
       "    .dataframe tbody tr th:only-of-type {\n",
       "        vertical-align: middle;\n",
       "    }\n",
       "\n",
       "    .dataframe tbody tr th {\n",
       "        vertical-align: top;\n",
       "    }\n",
       "\n",
       "    .dataframe thead th {\n",
       "        text-align: right;\n",
       "    }\n",
       "</style>\n",
       "<table border=\"1\" class=\"dataframe\">\n",
       "  <thead>\n",
       "    <tr style=\"text-align: right;\">\n",
       "      <th></th>\n",
       "      <th>tweet_id</th>\n",
       "      <th>timestamp</th>\n",
       "      <th>source</th>\n",
       "      <th>text</th>\n",
       "      <th>expanded_urls</th>\n",
       "      <th>rating_numerator</th>\n",
       "      <th>rating_denominator</th>\n",
       "      <th>name</th>\n",
       "      <th>dogtionary</th>\n",
       "      <th>rating_ratio</th>\n",
       "    </tr>\n",
       "  </thead>\n",
       "  <tbody>\n",
       "    <tr>\n",
       "      <th>38</th>\n",
       "      <td>884925521741709313</td>\n",
       "      <td>2017-07-12 00:01:00+00:00</td>\n",
       "      <td>Twitter iPhone</td>\n",
       "      <td>This is Earl. He found a hat. Nervous about wh...</td>\n",
       "      <td>https://twitter.com/dog_rates/status/884925521...</td>\n",
       "      <td>12.0</td>\n",
       "      <td>10</td>\n",
       "      <td>Earl</td>\n",
       "      <td>NaN</td>\n",
       "      <td>1.2</td>\n",
       "    </tr>\n",
       "    <tr>\n",
       "      <th>296</th>\n",
       "      <td>837366284874571778</td>\n",
       "      <td>2017-03-02 18:17:34+00:00</td>\n",
       "      <td>Twitter iPhone</td>\n",
       "      <td>This is Lucy. She has a portrait of herself on...</td>\n",
       "      <td>https://twitter.com/dog_rates/status/837366284...</td>\n",
       "      <td>13.0</td>\n",
       "      <td>10</td>\n",
       "      <td>Lucy</td>\n",
       "      <td>NaN</td>\n",
       "      <td>1.3</td>\n",
       "    </tr>\n",
       "    <tr>\n",
       "      <th>197</th>\n",
       "      <td>854482394044301312</td>\n",
       "      <td>2017-04-18 23:50:52+00:00</td>\n",
       "      <td>Twitter iPhone</td>\n",
       "      <td>This is Arya. She can barely contain her excit...</td>\n",
       "      <td>https://twitter.com/dog_rates/status/854482394...</td>\n",
       "      <td>13.0</td>\n",
       "      <td>10</td>\n",
       "      <td>Arya</td>\n",
       "      <td>NaN</td>\n",
       "      <td>1.3</td>\n",
       "    </tr>\n",
       "    <tr>\n",
       "      <th>360</th>\n",
       "      <td>829861396166877184</td>\n",
       "      <td>2017-02-10 01:15:49+00:00</td>\n",
       "      <td>Twitter iPhone</td>\n",
       "      <td>This is Mia. She already knows she's a good do...</td>\n",
       "      <td>https://twitter.com/dog_rates/status/829861396...</td>\n",
       "      <td>12.0</td>\n",
       "      <td>10</td>\n",
       "      <td>Mia</td>\n",
       "      <td>NaN</td>\n",
       "      <td>1.2</td>\n",
       "    </tr>\n",
       "    <tr>\n",
       "      <th>432</th>\n",
       "      <td>820749716845686786</td>\n",
       "      <td>2017-01-15 21:49:15+00:00</td>\n",
       "      <td>Twitter iPhone</td>\n",
       "      <td>Meet Sunny. He can take down a polar bear in o...</td>\n",
       "      <td>https://twitter.com/dog_rates/status/820749716...</td>\n",
       "      <td>13.0</td>\n",
       "      <td>10</td>\n",
       "      <td>Sunny</td>\n",
       "      <td>NaN</td>\n",
       "      <td>1.3</td>\n",
       "    </tr>\n",
       "  </tbody>\n",
       "</table>\n",
       "</div>"
      ],
      "text/plain": [
       "               tweet_id                 timestamp          source  \\\n",
       "38   884925521741709313 2017-07-12 00:01:00+00:00  Twitter iPhone   \n",
       "296  837366284874571778 2017-03-02 18:17:34+00:00  Twitter iPhone   \n",
       "197  854482394044301312 2017-04-18 23:50:52+00:00  Twitter iPhone   \n",
       "360  829861396166877184 2017-02-10 01:15:49+00:00  Twitter iPhone   \n",
       "432  820749716845686786 2017-01-15 21:49:15+00:00  Twitter iPhone   \n",
       "\n",
       "                                                  text  \\\n",
       "38   This is Earl. He found a hat. Nervous about wh...   \n",
       "296  This is Lucy. She has a portrait of herself on...   \n",
       "197  This is Arya. She can barely contain her excit...   \n",
       "360  This is Mia. She already knows she's a good do...   \n",
       "432  Meet Sunny. He can take down a polar bear in o...   \n",
       "\n",
       "                                         expanded_urls  rating_numerator  \\\n",
       "38   https://twitter.com/dog_rates/status/884925521...              12.0   \n",
       "296  https://twitter.com/dog_rates/status/837366284...              13.0   \n",
       "197  https://twitter.com/dog_rates/status/854482394...              13.0   \n",
       "360  https://twitter.com/dog_rates/status/829861396...              12.0   \n",
       "432  https://twitter.com/dog_rates/status/820749716...              13.0   \n",
       "\n",
       "     rating_denominator   name dogtionary  rating_ratio  \n",
       "38                   10   Earl        NaN           1.2  \n",
       "296                  10   Lucy        NaN           1.3  \n",
       "197                  10   Arya        NaN           1.3  \n",
       "360                  10    Mia        NaN           1.2  \n",
       "432                  10  Sunny        NaN           1.3  "
      ]
     },
     "execution_count": 40,
     "metadata": {},
     "output_type": "execute_result"
    }
   ],
   "source": [
    "# test random sample to ensure calculator is correct\n",
    "\n",
    "twitter_archive_clean.sample(5)"
   ]
  },
  {
   "cell_type": "markdown",
   "metadata": {},
   "source": [
    "#### `Twitter Archive`: Improve extracting names from tweets and set None to np.nan\n",
    "\n",
    "***Define:*** Using regex I will extract additional names from the text - named, name is, this is"
   ]
  },
  {
   "cell_type": "code",
   "execution_count": 41,
   "metadata": {},
   "outputs": [],
   "source": [
    "twitter_archive_clean.reset_index(inplace=True, drop=True)"
   ]
  },
  {
   "cell_type": "code",
   "execution_count": 42,
   "metadata": {},
   "outputs": [
    {
     "data": {
      "text/plain": [
       "None       597\n",
       "a           55\n",
       "Lucy        11\n",
       "Charlie     11\n",
       "Oliver      10\n",
       "Name: name, dtype: int64"
      ]
     },
     "execution_count": 42,
     "metadata": {},
     "output_type": "execute_result"
    }
   ],
   "source": [
    "# View most common names\n",
    "\n",
    "twitter_archive_clean.name.value_counts()[:5]"
   ]
  },
  {
   "cell_type": "code",
   "execution_count": 43,
   "metadata": {},
   "outputs": [],
   "source": [
    "# regex to parse additional names from the text\n",
    "\n",
    "fixed_names = twitter_archive_clean.query('name in [\"a\", \"None\", \"the\", \"an\"]').text.str\\\n",
    ".extract('named ([A-Z]{1}[a-z]+)|name is ([A-Z]{1}[a-z]+)|this is ([A-Z]{1}[a-z]+)', \n",
    "         expand=True)\n",
    "fixed_names['summed'] = fixed_names.fillna('').sum(axis=1).replace('', np.nan)\n",
    "\n",
    "fixed_names.drop([0,1,2], axis=1, inplace=True)"
   ]
  },
  {
   "cell_type": "code",
   "execution_count": 44,
   "metadata": {},
   "outputs": [],
   "source": [
    "# clean known non names so that I can add the recently extracted to the names col\n",
    "\n",
    "twitter_archive_clean.name.replace([\"a\", \"None\", \"the\", \"an\"], np.nan, inplace=True)\n",
    "twitter_archive_clean = twitter_archive_clean.join(fixed_names)"
   ]
  },
  {
   "cell_type": "code",
   "execution_count": 45,
   "metadata": {},
   "outputs": [],
   "source": [
    "# Make sure all other non name words are removed\n",
    "\n",
    "col = twitter_archive_clean[['name', 'summed']].fillna('').sum(axis=1)\n",
    "\n",
    "lower_func = lambda x: '' if x.islower() else x\n",
    "twitter_archive_clean['name'] = col.apply(lower_func).replace('', np.nan)\n",
    "\n",
    "twitter_archive_clean.drop(['summed'], axis=1, inplace=True)"
   ]
  },
  {
   "cell_type": "code",
   "execution_count": 46,
   "metadata": {},
   "outputs": [],
   "source": [
    "# Set name column to capitalize the first letter.\n",
    "\n",
    "twitter_archive_clean['name'] = twitter_archive_clean.name.str.capitalize()"
   ]
  },
  {
   "cell_type": "code",
   "execution_count": 47,
   "metadata": {},
   "outputs": [
    {
     "data": {
      "text/plain": [
       "452     Shadow\n",
       "1548       NaN\n",
       "1248       NaN\n",
       "197     Mimosa\n",
       "1003      Opie\n",
       "Name: name, dtype: object"
      ]
     },
     "execution_count": 47,
     "metadata": {},
     "output_type": "execute_result"
    }
   ],
   "source": [
    "# test data with random sample\n",
    "\n",
    "twitter_archive_clean.name.sample(5)"
   ]
  },
  {
   "cell_type": "code",
   "execution_count": 48,
   "metadata": {},
   "outputs": [],
   "source": [
    "# save final dataset to csv\n",
    "\n",
    "twitter_archive_clean.to_csv('twitter_archive_clean.csv', index=False)"
   ]
  },
  {
   "cell_type": "markdown",
   "metadata": {},
   "source": [
    "### Image Predictions Tidiness"
   ]
  },
  {
   "cell_type": "markdown",
   "metadata": {},
   "source": [
    "#### `Image Prediction`: convert the pass values into a single variable\n",
    "\n",
    "***Define:*** Using the melt method, I will reshape the data frame to [pass, confidence, breed, dog]"
   ]
  },
  {
   "cell_type": "code",
   "execution_count": 49,
   "metadata": {},
   "outputs": [
    {
     "name": "stdout",
     "output_type": "stream",
     "text": [
      "<class 'pandas.core.frame.DataFrame'>\n",
      "RangeIndex: 6225 entries, 0 to 6224\n",
      "Data columns (total 5 columns):\n",
      "tweet_id               6225 non-null int64\n",
      "jpg_url                6225 non-null object\n",
      "img_num                6225 non-null int64\n",
      "classification_pass    6225 non-null object\n",
      "breed                  6225 non-null object\n",
      "dtypes: int64(2), object(3)\n",
      "memory usage: 243.2+ KB\n"
     ]
    }
   ],
   "source": [
    "# Get the image prediction pass and breed\n",
    "\n",
    "image_prediction_melt = pd.melt(image_predictions_clean, id_vars=['tweet_id', 'jpg_url', 'img_num'],\n",
    "                                  var_name='classification_pass',\n",
    "                                  value_vars=['p1', 'p2', 'p3'],\n",
    "                                  value_name='breed')\n",
    "\n",
    "image_prediction_melt.info()"
   ]
  },
  {
   "cell_type": "code",
   "execution_count": 50,
   "metadata": {},
   "outputs": [],
   "source": [
    "# Get the confidence and dog breed columns\n",
    "\n",
    "confidence = pd.melt(image_predictions_clean, id_vars=['tweet_id', 'jpg_url', 'img_num'], \n",
    "               var_name='vars', \n",
    "               value_vars=['p1_conf', 'p2_conf', 'p3_conf'],\n",
    "               value_name='confidence').confidence.values\n",
    "\n",
    "dog = pd.melt(image_predictions_clean, id_vars=['tweet_id', 'jpg_url', 'img_num'], \n",
    "               var_name='vars', \n",
    "               value_vars=['p1_dog', 'p2_dog', 'p3_dog'],\n",
    "               value_name='dog').dog.values"
   ]
  },
  {
   "cell_type": "code",
   "execution_count": 51,
   "metadata": {},
   "outputs": [],
   "source": [
    "image_prediction_melt['confidence'] = confidence\n",
    "\n",
    "image_prediction_melt['dog'] = dog"
   ]
  },
  {
   "cell_type": "code",
   "execution_count": 52,
   "metadata": {},
   "outputs": [
    {
     "data": {
      "text/html": [
       "<div>\n",
       "<style scoped>\n",
       "    .dataframe tbody tr th:only-of-type {\n",
       "        vertical-align: middle;\n",
       "    }\n",
       "\n",
       "    .dataframe tbody tr th {\n",
       "        vertical-align: top;\n",
       "    }\n",
       "\n",
       "    .dataframe thead th {\n",
       "        text-align: right;\n",
       "    }\n",
       "</style>\n",
       "<table border=\"1\" class=\"dataframe\">\n",
       "  <thead>\n",
       "    <tr style=\"text-align: right;\">\n",
       "      <th></th>\n",
       "      <th>tweet_id</th>\n",
       "      <th>jpg_url</th>\n",
       "      <th>img_num</th>\n",
       "      <th>classification_pass</th>\n",
       "      <th>confidence</th>\n",
       "      <th>breed</th>\n",
       "      <th>dog</th>\n",
       "    </tr>\n",
       "  </thead>\n",
       "  <tbody>\n",
       "    <tr>\n",
       "      <th>829</th>\n",
       "      <td>693622659251335168</td>\n",
       "      <td>https://pbs.twimg.com/media/CaA-IR9VIAAqg5l.jpg</td>\n",
       "      <td>1</td>\n",
       "      <td>p1</td>\n",
       "      <td>0.449298</td>\n",
       "      <td>malamute</td>\n",
       "      <td>True</td>\n",
       "    </tr>\n",
       "    <tr>\n",
       "      <th>3633</th>\n",
       "      <td>793241302385262592</td>\n",
       "      <td>https://pbs.twimg.com/media/CwIougTWcAAMLyq.jpg</td>\n",
       "      <td>1</td>\n",
       "      <td>p2</td>\n",
       "      <td>0.390222</td>\n",
       "      <td>Labrador_retriever</td>\n",
       "      <td>True</td>\n",
       "    </tr>\n",
       "    <tr>\n",
       "      <th>4431</th>\n",
       "      <td>671122204919246848</td>\n",
       "      <td>https://pbs.twimg.com/media/CVBOFTLWwAAzlNi.jpg</td>\n",
       "      <td>1</td>\n",
       "      <td>p3</td>\n",
       "      <td>0.065818</td>\n",
       "      <td>hen</td>\n",
       "      <td>False</td>\n",
       "    </tr>\n",
       "    <tr>\n",
       "      <th>5259</th>\n",
       "      <td>723912936180330496</td>\n",
       "      <td>https://pbs.twimg.com/media/Cgva-QqUUAA7Hv9.jpg</td>\n",
       "      <td>1</td>\n",
       "      <td>p3</td>\n",
       "      <td>0.002232</td>\n",
       "      <td>chow</td>\n",
       "      <td>True</td>\n",
       "    </tr>\n",
       "    <tr>\n",
       "      <th>4031</th>\n",
       "      <td>864873206498414592</td>\n",
       "      <td>https://pbs.twimg.com/media/DAClmHkXcAA1kSv.jpg</td>\n",
       "      <td>2</td>\n",
       "      <td>p2</td>\n",
       "      <td>0.114182</td>\n",
       "      <td>lakeside</td>\n",
       "      <td>False</td>\n",
       "    </tr>\n",
       "    <tr>\n",
       "      <th>4389</th>\n",
       "      <td>670435821946826752</td>\n",
       "      <td>https://pbs.twimg.com/media/CU3d0azWUAA38FD.jpg</td>\n",
       "      <td>1</td>\n",
       "      <td>p3</td>\n",
       "      <td>0.099174</td>\n",
       "      <td>Cardigan</td>\n",
       "      <td>True</td>\n",
       "    </tr>\n",
       "    <tr>\n",
       "      <th>585</th>\n",
       "      <td>678991772295516161</td>\n",
       "      <td>https://pbs.twimg.com/media/CWxDaXHWsAAWV8W.jpg</td>\n",
       "      <td>1</td>\n",
       "      <td>p1</td>\n",
       "      <td>0.330216</td>\n",
       "      <td>Eskimo_dog</td>\n",
       "      <td>True</td>\n",
       "    </tr>\n",
       "    <tr>\n",
       "      <th>1699</th>\n",
       "      <td>816829038950027264</td>\n",
       "      <td>https://pbs.twimg.com/media/CvoBPWRWgAA4het.jpg</td>\n",
       "      <td>1</td>\n",
       "      <td>p1</td>\n",
       "      <td>0.700466</td>\n",
       "      <td>dishwasher</td>\n",
       "      <td>False</td>\n",
       "    </tr>\n",
       "    <tr>\n",
       "      <th>4278</th>\n",
       "      <td>668274247790391296</td>\n",
       "      <td>https://pbs.twimg.com/media/CUYv4d2WUAAziXs.jpg</td>\n",
       "      <td>1</td>\n",
       "      <td>p3</td>\n",
       "      <td>0.150844</td>\n",
       "      <td>toy_poodle</td>\n",
       "      <td>True</td>\n",
       "    </tr>\n",
       "    <tr>\n",
       "      <th>4576</th>\n",
       "      <td>674082852460433408</td>\n",
       "      <td>https://pbs.twimg.com/media/CVrSxy7WsAAFD2F.jpg</td>\n",
       "      <td>1</td>\n",
       "      <td>p3</td>\n",
       "      <td>0.020683</td>\n",
       "      <td>ski_mask</td>\n",
       "      <td>False</td>\n",
       "    </tr>\n",
       "  </tbody>\n",
       "</table>\n",
       "</div>"
      ],
      "text/plain": [
       "                tweet_id                                          jpg_url  \\\n",
       "829   693622659251335168  https://pbs.twimg.com/media/CaA-IR9VIAAqg5l.jpg   \n",
       "3633  793241302385262592  https://pbs.twimg.com/media/CwIougTWcAAMLyq.jpg   \n",
       "4431  671122204919246848  https://pbs.twimg.com/media/CVBOFTLWwAAzlNi.jpg   \n",
       "5259  723912936180330496  https://pbs.twimg.com/media/Cgva-QqUUAA7Hv9.jpg   \n",
       "4031  864873206498414592  https://pbs.twimg.com/media/DAClmHkXcAA1kSv.jpg   \n",
       "4389  670435821946826752  https://pbs.twimg.com/media/CU3d0azWUAA38FD.jpg   \n",
       "585   678991772295516161  https://pbs.twimg.com/media/CWxDaXHWsAAWV8W.jpg   \n",
       "1699  816829038950027264  https://pbs.twimg.com/media/CvoBPWRWgAA4het.jpg   \n",
       "4278  668274247790391296  https://pbs.twimg.com/media/CUYv4d2WUAAziXs.jpg   \n",
       "4576  674082852460433408  https://pbs.twimg.com/media/CVrSxy7WsAAFD2F.jpg   \n",
       "\n",
       "      img_num classification_pass  confidence               breed    dog  \n",
       "829         1                  p1    0.449298            malamute   True  \n",
       "3633        1                  p2    0.390222  Labrador_retriever   True  \n",
       "4431        1                  p3    0.065818                 hen  False  \n",
       "5259        1                  p3    0.002232                chow   True  \n",
       "4031        2                  p2    0.114182            lakeside  False  \n",
       "4389        1                  p3    0.099174            Cardigan   True  \n",
       "585         1                  p1    0.330216          Eskimo_dog   True  \n",
       "1699        1                  p1    0.700466          dishwasher  False  \n",
       "4278        1                  p3    0.150844          toy_poodle   True  \n",
       "4576        1                  p3    0.020683            ski_mask  False  "
      ]
     },
     "execution_count": 52,
     "metadata": {},
     "output_type": "execute_result"
    }
   ],
   "source": [
    "# testing sample\n",
    "image_prediction_melt = image_prediction_melt[['tweet_id', 'jpg_url', 'img_num', 'classification_pass', \n",
    "                                               'confidence', 'breed', 'dog']]\n",
    "image_prediction_melt.sample(10)"
   ]
  },
  {
   "cell_type": "code",
   "execution_count": 53,
   "metadata": {},
   "outputs": [
    {
     "data": {
      "text/html": [
       "<div>\n",
       "<style scoped>\n",
       "    .dataframe tbody tr th:only-of-type {\n",
       "        vertical-align: middle;\n",
       "    }\n",
       "\n",
       "    .dataframe tbody tr th {\n",
       "        vertical-align: top;\n",
       "    }\n",
       "\n",
       "    .dataframe thead th {\n",
       "        text-align: right;\n",
       "    }\n",
       "</style>\n",
       "<table border=\"1\" class=\"dataframe\">\n",
       "  <thead>\n",
       "    <tr style=\"text-align: right;\">\n",
       "      <th></th>\n",
       "      <th>tweet_id</th>\n",
       "      <th>jpg_url</th>\n",
       "      <th>img_num</th>\n",
       "      <th>p1</th>\n",
       "      <th>p1_conf</th>\n",
       "      <th>p1_dog</th>\n",
       "      <th>p2</th>\n",
       "      <th>p2_conf</th>\n",
       "      <th>p2_dog</th>\n",
       "      <th>p3</th>\n",
       "      <th>p3_conf</th>\n",
       "      <th>p3_dog</th>\n",
       "    </tr>\n",
       "  </thead>\n",
       "  <tbody>\n",
       "    <tr>\n",
       "      <th>1232</th>\n",
       "      <td>746056683365994496</td>\n",
       "      <td>https://pbs.twimg.com/media/ClqGl7fXIAA8nDe.jpg</td>\n",
       "      <td>1</td>\n",
       "      <td>Shetland_sheepdog</td>\n",
       "      <td>0.43332</td>\n",
       "      <td>True</td>\n",
       "      <td>collie</td>\n",
       "      <td>0.335997</td>\n",
       "      <td>True</td>\n",
       "      <td>borzoi</td>\n",
       "      <td>0.177179</td>\n",
       "      <td>True</td>\n",
       "    </tr>\n",
       "  </tbody>\n",
       "</table>\n",
       "</div>"
      ],
      "text/plain": [
       "                tweet_id                                          jpg_url  \\\n",
       "1232  746056683365994496  https://pbs.twimg.com/media/ClqGl7fXIAA8nDe.jpg   \n",
       "\n",
       "      img_num                 p1  p1_conf  p1_dog      p2   p2_conf  p2_dog  \\\n",
       "1232        1  Shetland_sheepdog  0.43332    True  collie  0.335997    True   \n",
       "\n",
       "          p3   p3_conf  p3_dog  \n",
       "1232  borzoi  0.177179    True  "
      ]
     },
     "execution_count": 53,
     "metadata": {},
     "output_type": "execute_result"
    }
   ],
   "source": [
    "# verify that it matches original data\n",
    "\n",
    "image_predictions.query('tweet_id == \"746056683365994496\"')"
   ]
  },
  {
   "cell_type": "markdown",
   "metadata": {},
   "source": [
    "### Image Predictions Cleaning"
   ]
  },
  {
   "cell_type": "markdown",
   "metadata": {},
   "source": [
    "#### `Image Prediction`: Set tweet_id type to object\n",
    "\n",
    "***Define:*** will set ID type to object using astype() method"
   ]
  },
  {
   "cell_type": "code",
   "execution_count": 54,
   "metadata": {},
   "outputs": [],
   "source": [
    "# set ID to object\n",
    "\n",
    "image_prediction_melt['tweet_id'] = image_prediction_melt.tweet_id.astype('object')"
   ]
  },
  {
   "cell_type": "markdown",
   "metadata": {},
   "source": [
    "#### `Image Prediction`: Select pass for each ID that has the highest confidence\n",
    "\n",
    "***Define:*** I will filter by p1 as it appears that p1 has the highest confidence for all occurances."
   ]
  },
  {
   "cell_type": "code",
   "execution_count": 55,
   "metadata": {},
   "outputs": [],
   "source": [
    "image_prediction_melt = image_prediction_melt.query('classification_pass == \"p1\"')"
   ]
  },
  {
   "cell_type": "code",
   "execution_count": 56,
   "metadata": {},
   "outputs": [
    {
     "data": {
      "text/plain": [
       "Index(['tweet_id', 'jpg_url', 'img_num', 'classification_pass', 'confidence',\n",
       "       'breed', 'dog'],\n",
       "      dtype='object')"
      ]
     },
     "execution_count": 56,
     "metadata": {},
     "output_type": "execute_result"
    }
   ],
   "source": [
    "image_prediction_melt.columns"
   ]
  },
  {
   "cell_type": "code",
   "execution_count": 57,
   "metadata": {},
   "outputs": [],
   "source": [
    "# set breed to lower case and select the final columns to save\n",
    "cols = ['tweet_id', 'jpg_url', 'breed', 'dog']\n",
    "image_prediction_melt['breed'] = image_prediction_melt.breed.str.lower()\n",
    "image_prediction_clean = image_prediction_melt[cols]"
   ]
  },
  {
   "cell_type": "code",
   "execution_count": 58,
   "metadata": {},
   "outputs": [],
   "source": [
    "# save final image prediction dataset to csv file\n",
    "\n",
    "image_prediction_clean.to_csv('image_prediction_clean.csv', index=False)"
   ]
  },
  {
   "cell_type": "markdown",
   "metadata": {},
   "source": [
    "### Tweet Json Tidiness"
   ]
  },
  {
   "cell_type": "markdown",
   "metadata": {},
   "source": [
    "#### `Twitter JSON`: Select metric columns mising from archive\n",
    "\n",
    "***Define:*** will use 'id', 'created_at', 'display_text_range', 'favorite_count', 'retweet_count'"
   ]
  },
  {
   "cell_type": "code",
   "execution_count": 59,
   "metadata": {},
   "outputs": [],
   "source": [
    "# Select desired columns\n",
    "\n",
    "cols = ['id', 'created_at', 'display_text_range', 'favorite_count', 'retweet_count']\n",
    "\n",
    "tweet_json_clean = tweet_json_clean.query('lang == \"en\"')[cols]"
   ]
  },
  {
   "cell_type": "markdown",
   "metadata": {},
   "source": [
    "#### `Twitter JSON`: Set ID type to object\n",
    "\n",
    "***Define:*** will set ID type to object using astype() method"
   ]
  },
  {
   "cell_type": "code",
   "execution_count": 60,
   "metadata": {},
   "outputs": [],
   "source": [
    "tweet_json_clean['id'] = tweet_json_clean.id.astype('object')"
   ]
  },
  {
   "cell_type": "markdown",
   "metadata": {},
   "source": [
    "### Tweet Json Cleaning"
   ]
  },
  {
   "cell_type": "markdown",
   "metadata": {},
   "source": [
    "#### `Twitter JSON`: Change display_text_range to tweet length\n",
    "\n",
    "***Define:*** will use the range to determine the length"
   ]
  },
  {
   "cell_type": "code",
   "execution_count": 61,
   "metadata": {},
   "outputs": [],
   "source": [
    "# using the second index from range as the length\n",
    "\n",
    "tweet_json_clean['character_count'] = tweet_json_clean.display_text_range.str[1]\n",
    "tweet_json_clean.drop('display_text_range', axis=1, inplace=True)"
   ]
  },
  {
   "cell_type": "code",
   "execution_count": 62,
   "metadata": {},
   "outputs": [
    {
     "data": {
      "text/plain": [
       "id                 2160\n",
       "created_at         2160\n",
       "favorite_count     2160\n",
       "retweet_count      2160\n",
       "character_count    2160\n",
       "dtype: int64"
      ]
     },
     "execution_count": 62,
     "metadata": {},
     "output_type": "execute_result"
    }
   ],
   "source": [
    "# Test by verifying random sample of 5 has correct char count\n",
    "\n",
    "tweet_json_clean.query('favorite_count != 0').count()"
   ]
  },
  {
   "cell_type": "code",
   "execution_count": 63,
   "metadata": {},
   "outputs": [],
   "source": [
    "tweet_json_clean.query('favorite_count != 0').to_csv('tweet_json_clean.csv', index=False)"
   ]
  },
  {
   "cell_type": "markdown",
   "metadata": {},
   "source": [
    "### Join data and save single table for my analysis"
   ]
  },
  {
   "cell_type": "code",
   "execution_count": 64,
   "metadata": {},
   "outputs": [],
   "source": [
    "df = pd.merge(twitter_archive_clean, image_prediction_clean, on='tweet_id')"
   ]
  },
  {
   "cell_type": "code",
   "execution_count": 65,
   "metadata": {},
   "outputs": [],
   "source": [
    "complete_df = pd.merge(df, tweet_json_clean, left_on='tweet_id', right_on='id')"
   ]
  },
  {
   "cell_type": "code",
   "execution_count": 66,
   "metadata": {},
   "outputs": [],
   "source": [
    "cols = ['tweet_id', 'created_at', 'source', 'text', 'character_count', 'name', \n",
    "        'dog', 'breed', 'dogtionary', 'rating_ratio', 'favorite_count', 'retweet_count', \n",
    "        'expanded_urls', 'jpg_url']"
   ]
  },
  {
   "cell_type": "code",
   "execution_count": 67,
   "metadata": {},
   "outputs": [],
   "source": [
    "complete_df[cols].to_csv('analysis_data_set.csv', index=False)"
   ]
  }
 ],
 "metadata": {
  "kernelspec": {
   "display_name": "Python 3",
   "language": "python",
   "name": "python3"
  },
  "language_info": {
   "codemirror_mode": {
    "name": "ipython",
    "version": 3
   },
   "file_extension": ".py",
   "mimetype": "text/x-python",
   "name": "python",
   "nbconvert_exporter": "python",
   "pygments_lexer": "ipython3",
   "version": "3.7.1"
  }
 },
 "nbformat": 4,
 "nbformat_minor": 2
}
