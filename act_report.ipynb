{
 "cells": [
  {
   "cell_type": "markdown",
   "metadata": {},
   "source": [
    "## Act Report"
   ]
  },
  {
   "attachments": {},
   "cell_type": "markdown",
   "metadata": {},
   "source": [
    "#### Top Breeds\n",
    "\n",
    "The top breed identified by the image classifier is golden retriever by a wide margin, followed by Labrador retriever.\n",
    "\n",
    "<img src=\"top_breeds.png\">\n",
    "\n",
    "\n",
    "The frequency of a particular breed does not a particularly strong correlation with either mean favorite or retweet count as it is 0.18 and 0.23 respectively.\n",
    "\n",
    "<img src=\"breed_favorites_retweets.png\">"
   ]
  },
  {
   "cell_type": "markdown",
   "metadata": {},
   "source": [
    "#### Wordcloud Dog vs. Not Dog\n",
    "\n",
    "While inspecting the text where dog is True, we see a lot of words such as pupper, pup, pet etc. These appear in most texts flagged as dog=True.\n",
    "\n",
    "<img src=\"dog.png\">\n",
    "\n",
    "When looking where dog is set to false - it is evident that the majority of the posts are still discussing dogs as pupper, pup, bark and other dog related words still appear. This indicates that using the image classification test with the highest confidence interval may not have been the best idea, and this is something that I would dig into in the second iteration of this project.\n",
    "\n",
    "<img src=\"not_dog.png\">\n",
    "\n",
    "Tweet id #757400162377592832's breed is tagged as seatbelt.  Manually inspecting the photo reveals that it is, in fact a golden retriever puppy.  Improving the image classifier would be a good focus point for the next iteration of the data cleaning process.\n",
    "\n",
    "<img src=\"https://pbs.twimg.com/media/CoLTbbzXYAElNM6.jpg\" width=\"200\">"
   ]
  },
  {
   "cell_type": "markdown",
   "metadata": {},
   "source": [
    "#### Variable Correlation\n",
    "As we view the correlation between the variables, we can see that there is a strong negative correlation between rating ratio vs the retweet to favorite ratio.  Additionally, there are strong positive correlations between like ratio and retweets and favorites individually.  It is important to note that correlation does not equate to causation.\n",
    "\n",
    "<img src=\"heatmap.png\">\n",
    "\n",
    "\n",
    "To better view the correlation between rating ratio vs the retweet to favorite ratio, we will use seaborn's regplot method to generate a liner regression model.  Here the Strong negative relationship is blatantly evident.\n",
    "\n",
    "<img src=\"rating_vs_favorites.png\">"
   ]
  },
  {
   "attachments": {},
   "cell_type": "markdown",
   "metadata": {},
   "source": [
    "#### Rating Ratio Forecast\n",
    "\n",
    "There is a strong positive trend indicating that the ratings have been steadily increasing since the inception of the WeRateDogs twitter account. There also appears to be a minor amount of seasonality around the seasonal change of summer to fall. Looking below, this is much more pronounced in 2017 than 2016 and the lack of data points be an indication as to why this is the case.\n",
    "\n",
    "<img src=\"plot_components.png\">\n",
    "\n",
    "\n",
    "\n",
    "\n",
    "Upon forecasting the mean monthly rating for an additional 12-month period, we can see that this positive trend continues - in fact there is a 95% chance that the calculated confidence interval (shaded region) between approximately 1.44 and 1.56 will contain the actual monthly mean rating in the following months.\n",
    "\n",
    "<img src=\"rating_forecast.png\">\n",
    "\n"
   ]
  },
  {
   "cell_type": "code",
   "execution_count": null,
   "metadata": {},
   "outputs": [],
   "source": []
  }
 ],
 "metadata": {
  "kernelspec": {
   "display_name": "Python 3",
   "language": "python",
   "name": "python3"
  },
  "language_info": {
   "codemirror_mode": {
    "name": "ipython",
    "version": 3
   },
   "file_extension": ".py",
   "mimetype": "text/x-python",
   "name": "python",
   "nbconvert_exporter": "python",
   "pygments_lexer": "ipython3",
   "version": "3.7.1"
  }
 },
 "nbformat": 4,
 "nbformat_minor": 2
}
